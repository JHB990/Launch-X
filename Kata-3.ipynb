{
 "cells": [
  {
   "cell_type": "code",
   "execution_count": 8,
   "metadata": {},
   "outputs": [
    {
     "name": "stdout",
     "output_type": "stream",
     "text": [
      "Advertencia el asteroide se aporxima a 49 Km/s, riesgo potencial a la tierra, Que cunada el panico!!!! dios no existe, la cervesa es sagrada, no hay escapatoria todos moriremos\n"
     ]
    }
   ],
   "source": [
    "# Añadir el código necesario para crear una variable que guarde la velocidad del asteroide.\n",
    "# Escribe una expresión de prueba para calcular si necesita una advertencia.\n",
    "# Agregue las instrucciones que se ejecutarán si la expresión de prueba es true o false\n",
    "\n",
    "#Un asteroide se acerca, y viaja a una velocidad de 49 km/s.\n",
    "\n",
    "velAst = input(\"ingrese la velocidad del asteroide : \")\n",
    "velAst = int(velAst)\n",
    "\n",
    "if (velAst > 25):\n",
    "    print(\"Advertencia el asteroide se aporxima a: \", velAst, \"Km/s, riesgo potencial a la tierra, Que cunada el panico!!!! dios no existe, la cervesa es sagrada, no hay escapatoria todos moriremos\")\n",
    "elif (velAst < 25 or velAst > 20):\n",
    "    print(\"el asteroide se aproxima a una velocidad de \", velAst,\" Km/s, bajo riesgo\")\n",
    "else:\n",
    "    print(\"El asteroide no representa amenaza alguna para la Tierra, velocidad baja \", velAst, \" Km/s\")"
   ]
  },
  {
   "cell_type": "code",
   "execution_count": 20,
   "metadata": {},
   "outputs": [
    {
     "name": "stdout",
     "output_type": "stream",
     "text": [
      "¡Hay uno que se dirige a la tierra ahora a una velocidad de 19 km/s!\n"
     ]
    }
   ],
   "source": [
    "# Agrega el código para crear una variable para un asteroide que viaja a 19 km/s\n",
    "# Escribe varias expresiones de prueba para determinar si puedes ver el rayo de luz desde la tierra\n",
    "# Agrega las instrucciones que se ejecutarán si las expresiones de prueba son True o False\n",
    "#Si un asteroide entra en la atmósfera de la Tierra a una velocidad mayor o igual a 20 km/s, #\n",
    "# a veces produce un rayo de luz que se puede ver desde la Tierra. \n",
    "#Escribe la lógica condicional que usa declaraciones if, else, y elif para alertar a las personas \n",
    "#de todo el mundo que deben buscar un asteroide en el cielo. \n",
    "#¡Hay uno que se dirige a la tierra ahora a una velocidad de 19 km/s!\n",
    "\n",
    "asteroide = 19\n",
    "if (asteroide >= 20):\n",
    "    print(\"¡Hay uno que se dirige a la tierra ahora a una velocidad de 19 km/s!\")\n",
    "elif (asteroide < 20 and asteroide > 17 ):\n",
    "    print(\"es poco probable que entre en la atmosfera\")\n",
    "else:\n",
    "    print(\"No entrara a la atmosfera\")"
   ]
  },
  {
   "cell_type": "code",
   "execution_count": 2,
   "metadata": {},
   "outputs": [
    {
     "name": "stdout",
     "output_type": "stream",
     "text": [
      "No hay peligro\n"
     ]
    }
   ],
   "source": [
    "#*Los asteroides de menos de 25 metros en su dimensión más grande probablemente se quemarán a medida que entren en la atmósfera de la Tierra.\n",
    "\n",
    "#Si una pieza de un asteroide que es más grande que 25 metros pero más pequeña que 1000 metros golpeara la Tierra, \n",
    "#causaría mucho daño.\n",
    "#También discutimos en el ejercicio anterior que:\n",
    "\n",
    "#La velocidad del asteroide varía en función de lo cerca que esté del sol, \n",
    "# y cualquier velocidad superior a 25 kilómetros por segundo (km/s) merece una advertencia.\n",
    "#Si un asteroide entra en la atmósfera de la Tierra a una velocidad mayor o igual a 20 km/s, \n",
    "# a veces produce un rayo de luz que se puede ver desde la Tierra.\n",
    "#Usando toda esta información, escribe un programa que emita la advertencia \n",
    "# o información correcta a la gente de la Tierra, según la velocidad y el tamaño de un asteroide. \n",
    "# Utiliza instrucciones if, else, y elif, así como los operadores and y or.\n",
    "\n",
    "# Agrega el código para crear nuevas variables para la velocidad y el tamaño del asteroide\n",
    "# Para probar el código, prueba con varias velocidades y tamaños\n",
    "# Escribe varias expresiones de prueba o combinaciones de expresiones de prueba para determinar \n",
    "# qué mensaje se debe enviar a Tierra.\n",
    "\n",
    "velAst = int(input(\"Ingresa la velocidad del asteroide : \"))\n",
    "tamAst = int(input(\"Ingresa el tamaño del asteroide: \"))\n",
    "proAst = velAst\n",
    "\n",
    "if ( tamAst > 25 and velAst > 25):\n",
    "    print(\"este asteroide representa un riesgo para el planeta\")\n",
    "    print(\"representa una amenaza debido a la velocidad \", velAst,\" y a su tamaño \", tamAst)\n",
    "elif(tamAst < 25):\n",
    "    print(\"No hay peligro\")\n",
    "elif(velAst >= 25):\n",
    "    print(\"Este objeto solo creara uun relampago en el cielo\")\n",
    "else:\n",
    "    print(\"Todo en calma nada que notificar\")"
   ]
  }
 ],
 "metadata": {
  "interpreter": {
   "hash": "37a133afffe83c2f6c877d246b17533db39e93a2972674d99b3b297e9aace1a8"
  },
  "kernelspec": {
   "display_name": "Python 3.10.0 64-bit",
   "language": "python",
   "name": "python3"
  },
  "language_info": {
   "codemirror_mode": {
    "name": "ipython",
    "version": 3
   },
   "file_extension": ".py",
   "mimetype": "text/x-python",
   "name": "python",
   "nbconvert_exporter": "python",
   "pygments_lexer": "ipython3",
   "version": "3.10.0"
  },
  "orig_nbformat": 4
 },
 "nbformat": 4,
 "nbformat_minor": 2
}
