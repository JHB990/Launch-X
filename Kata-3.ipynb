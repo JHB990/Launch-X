{
 "cells": [
  {
   "cell_type": "code",
   "execution_count": 6,
   "metadata": {},
   "outputs": [
    {
     "ename": "TypeError",
     "evalue": "can only concatenate str (not \"int\") to str",
     "output_type": "error",
     "traceback": [
      "\u001b[1;31m---------------------------------------------------------------------------\u001b[0m",
      "\u001b[1;31mTypeError\u001b[0m                                 Traceback (most recent call last)",
      "\u001b[1;32mc:\\Users\\Jazz_\\workspace\\Launch-X\\Kata-3.ipynb Cell 1'\u001b[0m in \u001b[0;36m<module>\u001b[1;34m\u001b[0m\n\u001b[0;32m      <a href='vscode-notebook-cell:/c%3A/Users/Jazz_/workspace/Launch-X/Kata-3.ipynb#ch0000000?line=7'>8</a>\u001b[0m velAst \u001b[39m=\u001b[39m \u001b[39mint\u001b[39m(velAst)\n\u001b[0;32m     <a href='vscode-notebook-cell:/c%3A/Users/Jazz_/workspace/Launch-X/Kata-3.ipynb#ch0000000?line=9'>10</a>\u001b[0m \u001b[39mif\u001b[39;00m (velAst \u001b[39m>\u001b[39m \u001b[39m25\u001b[39m):\n\u001b[1;32m---> <a href='vscode-notebook-cell:/c%3A/Users/Jazz_/workspace/Launch-X/Kata-3.ipynb#ch0000000?line=10'>11</a>\u001b[0m     \u001b[39mprint\u001b[39m(\u001b[39m\"\u001b[39;49m\u001b[39mAdvertencia el asteroide se aporxima a\u001b[39;49m\u001b[39m\"\u001b[39;49m\u001b[39m+\u001b[39;49m velAst \u001b[39m+\u001b[39m\u001b[39m\"\u001b[39m\u001b[39m Km/s, riesgo potencial a la tierra, Que cunada el panico!!!! dios no existe, la cervesa es sagrada, no hay escapatoria todos moriremos\u001b[39m\u001b[39m\"\u001b[39m)\n\u001b[0;32m     <a href='vscode-notebook-cell:/c%3A/Users/Jazz_/workspace/Launch-X/Kata-3.ipynb#ch0000000?line=11'>12</a>\u001b[0m \u001b[39melif\u001b[39;00m (velAst \u001b[39m<\u001b[39m \u001b[39m25\u001b[39m \u001b[39mand\u001b[39;00m velAst \u001b[39m>\u001b[39m \u001b[39m20\u001b[39m):\n\u001b[0;32m     <a href='vscode-notebook-cell:/c%3A/Users/Jazz_/workspace/Launch-X/Kata-3.ipynb#ch0000000?line=12'>13</a>\u001b[0m     \u001b[39mprint\u001b[39m(\u001b[39m\"\u001b[39m\u001b[39mel asteroide se aproxima a una velocidad de \u001b[39m\u001b[39m\"\u001b[39m\u001b[39m+\u001b[39m velAst \u001b[39m+\u001b[39m\u001b[39m\"\u001b[39m\u001b[39m Km/s, bajo riesgo\u001b[39m\u001b[39m\"\u001b[39m)\n",
      "\u001b[1;31mTypeError\u001b[0m: can only concatenate str (not \"int\") to str"
     ]
    }
   ],
   "source": [
    "# Añadir el código necesario para crear una variable que guarde la velocidad del asteroide.\n",
    "# Escribe una expresión de prueba para calcular si necesita una advertencia.\n",
    "# Agregue las instrucciones que se ejecutarán si la expresión de prueba es true o false\n",
    "\n",
    "#Un asteroide se acerca, y viaja a una velocidad de 49 km/s.\n",
    "\n",
    "velAst = input(\"ingrese la velocidad del asteroide : \")\n",
    "velAst = int(velAst)\n",
    "\n",
    "if (velAst > 25):\n",
    "    print(\"Advertencia el asteroide se aporxima a\", velAst, \" Km/s, riesgo potencial a la tierra, Que cunada el panico!!!! dios no existe, la cervesa es sagrada, no hay escapatoria todos moriremos\")\n",
    "elif (velAst < 25 and velAst > 20):\n",
    "    print(\"el asteroide se aproxima a una velocidad de \", velAst,\" Km/s, bajo riesgo\")\n",
    "else:\n",
    "    print(\"El asteroide no representa amenaza alguna para la Tierra, velocidad baja \", velAst, \" Km/s\")"
   ]
  }
 ],
 "metadata": {
  "interpreter": {
   "hash": "37a133afffe83c2f6c877d246b17533db39e93a2972674d99b3b297e9aace1a8"
  },
  "kernelspec": {
   "display_name": "Python 3.10.0 64-bit",
   "language": "python",
   "name": "python3"
  },
  "language_info": {
   "codemirror_mode": {
    "name": "ipython",
    "version": 3
   },
   "file_extension": ".py",
   "mimetype": "text/x-python",
   "name": "python",
   "nbconvert_exporter": "python",
   "pygments_lexer": "ipython3",
   "version": "3.10.0"
  },
  "orig_nbformat": 4
 },
 "nbformat": 4,
 "nbformat_minor": 2
}
