{
 "cells": [
  {
   "cell_type": "code",
   "execution_count": 2,
   "metadata": {},
   "outputs": [],
   "source": [
    "#En este ejercicio, estás creando una aplicación que solicita a un usuario que ingrese una lista de planetas. \n",
    "# En un ejercicio posterior, agregarás código que muestre la lista. \n",
    "# Por ahora, crearás solo el código que solicita al usuario la lista de planetas.\n",
    "\n",
    "planet_List = []\n",
    "new_planet= \"\"\n",
    "\n",
    "while new_planet.lower() != \"fin\":\n",
    "    if new_planet:\n",
    "        planet_List.append(new_planet)\n",
    "    new_planett = input(\"Ingresa los planetas del sisetema solar, (si terminaste ingresa fin): \")"
   ]
  },
  {
   "cell_type": "code",
   "execution_count": 3,
   "metadata": {},
   "outputs": [
    {
     "name": "stdout",
     "output_type": "stream",
     "text": [
      "['mercurio', 'venus', 'tierra', 'marte']\n",
      "['mercurio', 'venus', 'tierra', 'marte']\n",
      "['mercurio', 'venus', 'tierra', 'marte']\n",
      "['mercurio', 'venus', 'tierra', 'marte']\n"
     ]
    }
   ],
   "source": [
    "#La variable planets almacena los nombres de planeta que ha introducido un usuario. \n",
    "# Ahora usarás un ciclo para mostrar esas entradas.\n",
    "#Crea un ciclo for para iterar sobre la lista planets. \n",
    "# Puedes usar como nombre de la variable planet para cada planeta. \n",
    "# Dentro del ciclo for, \n",
    "# recuerda utilizar print para mostrar cada planet.\n",
    "\n",
    "planet_List = []\n",
    "new_planet= ''\n",
    "\n",
    "\n",
    "while new_planet != \"fin\":\n",
    "    if new_planet:\n",
    "        planet_List.append(new_planet)\n",
    "    new_planet = input(\"Ingresa los planetas del sisetema solar, (si terminaste ingresa fin): \")\n",
    "    new_planet = new_planet.lower()\n",
    "\n",
    "for planets in planet_List:\n",
    "    print(planets)"
   ]
  }
 ],
 "metadata": {
  "interpreter": {
   "hash": "37a133afffe83c2f6c877d246b17533db39e93a2972674d99b3b297e9aace1a8"
  },
  "kernelspec": {
   "display_name": "Python 3.10.0 64-bit",
   "language": "python",
   "name": "python3"
  },
  "language_info": {
   "codemirror_mode": {
    "name": "ipython",
    "version": 3
   },
   "file_extension": ".py",
   "mimetype": "text/x-python",
   "name": "python",
   "nbconvert_exporter": "python",
   "pygments_lexer": "ipython3",
   "version": "3.10.0"
  },
  "orig_nbformat": 4
 },
 "nbformat": 4,
 "nbformat_minor": 2
}
