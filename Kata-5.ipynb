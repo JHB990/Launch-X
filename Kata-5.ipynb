{
 "cells": [
  {
   "cell_type": "code",
   "execution_count": 3,
   "metadata": {},
   "outputs": [
    {
     "name": "stdout",
     "output_type": "stream",
     "text": [
      "The distance bettwen the Earth and Jupiter is:  -628949330 Km\n",
      "The distance in miles is : -390577533.93 miles\n"
     ]
    }
   ],
   "source": [
    "#Exploremos cómo podemos crear un programa que pueda calcular la distancia entre dos planetas. \n",
    "# Comenzaremos usando dos distancias de planetas: \n",
    "# Tierra (149.597.870 km) y Júpiter (778.547.200 km).\n",
    "\n",
    "earth = 149597870\n",
    "jupiter = 778547200\n",
    "\n",
    "distBet = (earth - jupiter)\n",
    "print(\"The distance bettwen the Earth and Jupiter is: \", distBet, \"Km\")\n",
    "milesDis = distBet * 0.621\n",
    "print(\"The distance in miles is :\", milesDis, \"miles\")"
   ]
  },
  {
   "cell_type": "code",
   "execution_count": 2,
   "metadata": {},
   "outputs": [
    {
     "name": "stdout",
     "output_type": "stream",
     "text": [
      "la distancia entre estos dos planetas es:  50300000 Km\n",
      "la distancia entre estos dos planestas es de :  31236300.0 Milles\n"
     ]
    }
   ],
   "source": [
    "#Para crear nuestra aplicación, queremos leer la distancia del sol para dos planetas,\n",
    "# y luego mostrar la distancia entre los planetas. Haremos esto usando input para leer los valores, \n",
    "#int para convertir a entero y luego abs para convertir el resultado en su valor absoluto.\n",
    "\n",
    "first_planet = input(\"Ingresa la ditancia del primer planeta: \")\n",
    "#intento convertir lo ingresado en un entero\n",
    "try:\n",
    "    first_planet = int(first_planet)\n",
    "#si no puede convertirlo a entero es por que lo ingresado no es un numero es una cadena de texto y termina el proceso\n",
    "except:\n",
    "    first_planet = 'nonumber'\n",
    "\n",
    "if (first_planet == 'nonumber'):\n",
    "    print(\"this is not a number\")\n",
    "    exit()\n",
    "\n",
    "second_planet = input(\"Ingresa la distancia del segundo planeta: \")\n",
    "try:\n",
    "    second_planet = int(second_planet)\n",
    "except:\n",
    "    second_planet = 'nonumber'\n",
    "\n",
    "if (second_planet == 'nonumber'):\n",
    "    print(\"this is not a number\")\n",
    "    exit()\n",
    "\n",
    "distPlanets = first_planet - second_planet\n",
    "\n",
    "distPlanets = abs(distPlanets)\n",
    "\n",
    "print(\"la distancia entre estos dos planetas es: \", distPlanets, \"Km\")\n",
    "\n",
    "distPlanets = distPlanets * 0.621\n",
    "\n",
    "distPlanets = abs(distPlanets)\n",
    "\n",
    "print(\"la distancia entre estos dos planestas es de : \", distPlanets, \"Milles\")"
   ]
  }
 ],
 "metadata": {
  "interpreter": {
   "hash": "37a133afffe83c2f6c877d246b17533db39e93a2972674d99b3b297e9aace1a8"
  },
  "kernelspec": {
   "display_name": "Python 3.10.0 64-bit",
   "language": "python",
   "name": "python3"
  },
  "language_info": {
   "codemirror_mode": {
    "name": "ipython",
    "version": 3
   },
   "file_extension": ".py",
   "mimetype": "text/x-python",
   "name": "python",
   "nbconvert_exporter": "python",
   "pygments_lexer": "ipython3",
   "version": "3.10.0"
  },
  "orig_nbformat": 4
 },
 "nbformat": 4,
 "nbformat_minor": 2
}
