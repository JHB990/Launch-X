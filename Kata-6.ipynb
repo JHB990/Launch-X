{
 "cells": [
  {
   "cell_type": "code",
   "execution_count": 5,
   "metadata": {},
   "outputs": [
    {
     "name": "stdout",
     "output_type": "stream",
     "text": [
      "['Mercurio', 'Venus', 'Tierra', 'Marte', 'Jupiter', 'Saturno', 'Urano', 'Neptuno']\n",
      "['Mercurio', 'Venus', 'Tierra', 'Marte', 'Jupiter', 'Saturno', 'Urano', 'Neptuno', 'Pluton']\n",
      "el numro de planetas son :  9  y el ultimo planeta es :  Pluton\n"
     ]
    }
   ],
   "source": [
    "# crear lista de planetas\n",
    "planetas = [\"Mercurio\", \"Venus\", \"Tierra\", \"Marte\", \"Jupiter\", \"Saturno\", \"Urano\", \"Neptuno\"]\n",
    "\n",
    "print(planetas) #Se muestran los planetas sin pluton, Gracias Neil D. Tyson >:(\n",
    "\n",
    "planetas.append(\"Pluton\")\n",
    "\n",
    "print(planetas)  #lo imprime con pluton apesar del apoyo a excluirlo de Niel.\n",
    "\n",
    "num = len(planetas)\n",
    "\n",
    "print(\"el numro de planetas son : \", num, \" y el ultimo planeta es : \", planetas[-1])"
   ]
  },
  {
   "cell_type": "code",
   "execution_count": 15,
   "metadata": {},
   "outputs": [],
   "source": [
    "#Es posible que debas trabajar con diferentes secciones de una lista. \n",
    "# En nuestro ejemplo, queremos mostrar planetas más cerca y más lejos del sol \n",
    "# de un planeta que el usuario ingresa por teclado.\n",
    "#Comienza agregando el código para crear una lista con los planetas.\n",
    "\n",
    "planetas = [\"Mercurio\", \"Venus\", \"Tierra\", \"Marte\", \"Jupiter\", \"Saturno\", \"Urano\", \"Neptuno\"]\n",
    "\n",
    "planetaOrigen = input(\"ingresa el planeta del cual quieres obtener las proximidades: \")\n",
    "\n",
    "planetaOrigen = planetaOrigen.capitalize()\n",
    "\n",
    "#Buscaremos el planeta en la lista\n",
    "\n",
    "x = 0\n",
    "\n",
    "\n",
    "if (planetaOrigen == planetas[x]):\n",
    "    loc = planetas[x]\n",
    "    print(loc)\n",
    "    print(\"El planeta mas cercano al sol que el que elusuario ingreso son: \", planetas[0:loc])\n",
    "else:\n",
    "    x = x+1"
   ]
  }
 ],
 "metadata": {
  "interpreter": {
   "hash": "37a133afffe83c2f6c877d246b17533db39e93a2972674d99b3b297e9aace1a8"
  },
  "kernelspec": {
   "display_name": "Python 3.10.0 64-bit",
   "language": "python",
   "name": "python3"
  },
  "language_info": {
   "codemirror_mode": {
    "name": "ipython",
    "version": 3
   },
   "file_extension": ".py",
   "mimetype": "text/x-python",
   "name": "python",
   "nbconvert_exporter": "python",
   "pygments_lexer": "ipython3",
   "version": "3.10.0"
  },
  "orig_nbformat": 4
 },
 "nbformat": 4,
 "nbformat_minor": 2
}
