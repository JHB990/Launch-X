{
 "cells": [
  {
   "cell_type": "markdown",
   "metadata": {},
   "source": [
    "# Primer programa\n",
    "\n",
    "Objetivo: Creara un programa que muestre la fecha haciendo uso de la libreria datetime"
   ]
  },
  {
   "cell_type": "code",
   "execution_count": null,
   "metadata": {},
   "outputs": [],
   "source": [
    "from datetime import date\n",
    "\n",
    "print(\"Today's date is = \" str(date.Today()))"
   ]
  }
 ],
 "metadata": {
  "interpreter": {
   "hash": "37a133afffe83c2f6c877d246b17533db39e93a2972674d99b3b297e9aace1a8"
  },
  "kernelspec": {
   "display_name": "Python 3.10.0 64-bit",
   "language": "python",
   "name": "python3"
  },
  "language_info": {
   "name": "python",
   "version": "3.10.0"
  },
  "orig_nbformat": 4
 },
 "nbformat": 4,
 "nbformat_minor": 2
}
