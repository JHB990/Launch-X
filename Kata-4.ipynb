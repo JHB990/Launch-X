{
 "cells": [
  {
   "cell_type": "code",
   "execution_count": 2,
   "metadata": {},
   "outputs": [
    {
     "name": "stdout",
     "output_type": "stream",
     "text": [
      "['Interesting facts about the Moon', \"The Moon is Earth's only satellite\", 'There are several interesting facts about the Moon and how it affects life here on Earth', '\\nOn average, the Moon moves 4cm away from the Earth every year', 'This yearly drift is not significant enough to cause immediate effects on Earth', 'The highest, the temperature normaly is 14 C degrees']\n",
      "\n",
      "On average, the Moon moves 4cm away from the Earth every year\n",
      "The highest, the temperature normaly is 14 C degrees\n",
      "\n",
      "On average, the Moon moves 4cm away from the Earth every year\n",
      "The highest, the temperature normaly is 14 Celsius degrees\n"
     ]
    }
   ],
   "source": [
    "text = \"\"\"Interesting facts about the Moon. The Moon is Earth's only satellite. There are several interesting facts about the Moon and how it affects life here on Earth. \n",
    "On average, the Moon moves 4cm away from the Earth every year. This yearly drift is not significant enough to cause immediate effects on Earth. The highest, the temperature normaly is 14 C degrees\"\"\"\n",
    "\n",
    "text = text.split('. ')\n",
    "\n",
    "print(text)\n",
    "\n",
    "\n",
    "palabras_clave = [\"average\", \"temperature\", \"distance\"]\n",
    "\n",
    "for impresion in text:   #\n",
    "    for parte in palabras_clave:\n",
    "        if parte in impresion:\n",
    "            print(impresion)\n",
    "            break\n",
    "\n",
    "for impresion2 in text:\n",
    "    for parte2 in palabras_clave:\n",
    "        if parte2 in impresion2:\n",
    "            print(impresion2.replace(' C', ' Celsius'))\n",
    "            break"
   ]
  }
 ],
 "metadata": {
  "interpreter": {
   "hash": "37a133afffe83c2f6c877d246b17533db39e93a2972674d99b3b297e9aace1a8"
  },
  "kernelspec": {
   "display_name": "Python 3.10.0 64-bit",
   "language": "python",
   "name": "python3"
  },
  "language_info": {
   "codemirror_mode": {
    "name": "ipython",
    "version": 3
   },
   "file_extension": ".py",
   "mimetype": "text/x-python",
   "name": "python",
   "nbconvert_exporter": "python",
   "pygments_lexer": "ipython3",
   "version": "3.10.0"
  },
  "orig_nbformat": 4
 },
 "nbformat": 4,
 "nbformat_minor": 2
}
