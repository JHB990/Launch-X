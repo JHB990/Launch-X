{
 "cells": [
  {
   "cell_type": "code",
   "execution_count": 7,
   "metadata": {},
   "outputs": [
    {
     "name": "stdout",
     "output_type": "stream",
     "text": [
      "El promedio de los tanques es:  45.666666666666664\n",
      "\n"
     ]
    }
   ],
   "source": [
    "#Ejercicio 1: Trabajar con argumentos en funciones\n",
    "\n",
    "# Función para leer 3 tanques de combustible y muestre el promedio\n",
    "\n",
    "def fuel_tank_status(tank_1, tank_2, tank_3):\n",
    "    tot = (tank_1 + tank_2 + tank_3)\n",
    "    prom_report(tot)\n",
    "    return tot\n",
    "\n",
    "#En lugar de simplemente crear el informe, la función también está calculando el promedio. \n",
    "# Mejora la legibilidad extrayendo el cálculo promedio de la función \n",
    "#en una nueva función para que el promedio se pueda hacer de forma independiente:\n",
    "\n",
    "# Función promedio \n",
    "def prom_report(quan):\n",
    "    prom = quan/3\n",
    "    print(\"El promedio de los tanques es: \",prom)\n",
    "\n",
    "# Llamamos a la función que genera el reporte print(funcion(tanque1, tanque2, tanque3))\n",
    "print(fuel_tank_status(80, 27, 30))\n",
    "\n",
    "\n"
   ]
  },
  {
   "cell_type": "code",
   "execution_count": 8,
   "metadata": {},
   "outputs": [
    {
     "name": "stdout",
     "output_type": "stream",
     "text": [
      "\n",
      "    Destiny = moon \n",
      "    time to travel = 92 hrs\n",
      "    Total fuel = 95.0 %\n",
      "    \n"
     ]
    }
   ],
   "source": [
    "#Ejercicio : Trabajar con argumentos de palabras clave en funciones\n",
    "\n",
    "#En este ejercicio, construirás un informe de cohete que requiere varias piezas de información, \n",
    "# como el tiempo hasta el destino, el combustible a la izquierda y el nombre del destino. \n",
    "#Comienza por crear una función que creará un informe preciso de la misión:\n",
    "\n",
    "# Función con un informe preciso de la misión. Considera hora de prelanzamiento, \n",
    "# tiempo de vuelo, destino, tanque externo y tanque interno\n",
    "\n",
    "def roket_report(time_Destiny, fuel_Left_Tank, destiny_Name, preLaunch_Time, internal_Tank):\n",
    "    return f\"\"\"\n",
    "    Destiny = {destiny_Name} \n",
    "    time to travel = {time_Destiny+preLaunch_Time} hrs\n",
    "    Total fuel = {(fuel_Left_Tank+internal_Tank)/2} %\n",
    "    \"\"\"\n",
    "\n",
    "print(roket_report(41, 90, \"moon\", 51, 100))"
   ]
  },
  {
   "cell_type": "code",
   "execution_count": 10,
   "metadata": {},
   "outputs": [
    {
     "name": "stdout",
     "output_type": "stream",
     "text": [
      "\n",
      "    Destiny = moon \n",
      "    time to travel = 214 hrs\n",
      "    Total fuel = 870000\n",
      "    \n"
     ]
    }
   ],
   "source": [
    "#La función es problemática porque no se puede adaptar para minutos adicionales o tanques adicionales \n",
    "# de combustible. \n",
    "# Hazlo más flexible permitiendo cualquier número de pasos basados en el \n",
    "# tiempo y cualquier número de tanques. \n",
    "# En lugar de usar *args y **kwargs, aprovecha el hecho de que puedes usar cualquier nombre que desees. \n",
    "# Asegurate que la función sea más legible mediante el uso de nombres de variables que están asociados con \n",
    "# las entradas, como *minutes y **fuel_reservoirs:\n",
    "\n",
    "# Escribe tu nueva función de reporte considerando lo anterior\n",
    "\n",
    "def roket_report(destiny_Name, *minutes, **fuel_reservoirs):\n",
    "    return f\"\"\"\n",
    "    Destiny = {destiny_Name} \n",
    "    time to travel = {sum(minutes)} hrs\n",
    "    Total fuel = {sum(fuel_reservoirs.values())}\n",
    "    \"\"\"\n",
    "\n",
    "print(roket_report(\"moon\", 52,68,79,15, external=800000, main=70000))"
   ]
  },
  {
   "cell_type": "code",
   "execution_count": 13,
   "metadata": {},
   "outputs": [
    {
     "name": "stdout",
     "output_type": "stream",
     "text": [
      "\n",
      "    Destiny = moon \n",
      "    time to travel = 214 hrs\n",
      "    Total fuel = 870000\n",
      "    \texternal tanque ---> 800000 litros restan\n",
      "\tmain tanque ---> 70000 litros restan\n",
      "\n"
     ]
    }
   ],
   "source": [
    "#Debido a que el combustible que queda en los tanques es específico de cada tanque, \n",
    "# actualiza la función para usar el nombre de cada tanque en el informe:\n",
    "# Escribe tu nueva función\n",
    "\n",
    "def roket_report(destiny_Name, *minutes, **fuel_reservoirs):\n",
    "    reporte_Principal = f\"\"\"\n",
    "    Destiny = {destiny_Name} \n",
    "    time to travel = {sum(minutes)} hrs\n",
    "    Total fuel = {sum(fuel_reservoirs.values())}\n",
    "    \"\"\"\n",
    "    for name_Tank, Liters in fuel_reservoirs.items():\n",
    "        reporte_Principal += f\"\\t{name_Tank} tanque ---> {Liters} litros restan\\n\"\n",
    "    return reporte_Principal\n",
    "\n",
    "print(roket_report(\"moon\", 52,68,79,15, external=800000, main=70000))"
   ]
  }
 ],
 "metadata": {
  "interpreter": {
   "hash": "37a133afffe83c2f6c877d246b17533db39e93a2972674d99b3b297e9aace1a8"
  },
  "kernelspec": {
   "display_name": "Python 3.10.0 64-bit",
   "language": "python",
   "name": "python3"
  },
  "language_info": {
   "codemirror_mode": {
    "name": "ipython",
    "version": 3
   },
   "file_extension": ".py",
   "mimetype": "text/x-python",
   "name": "python",
   "nbconvert_exporter": "python",
   "pygments_lexer": "ipython3",
   "version": "3.10.0"
  },
  "orig_nbformat": 4
 },
 "nbformat": 4,
 "nbformat_minor": 2
}
